{
  "nbformat": 4,
  "nbformat_minor": 0,
  "metadata": {
    "colab": {
      "name": "llamas_ladder_upsample.ipynb",
      "provenance": [],
      "collapsed_sections": []
    },
    "kernelspec": {
      "name": "python3",
      "display_name": "Python 3"
    },
    "accelerator": "GPU"
  },
  "cells": [
    {
      "cell_type": "code",
      "metadata": {
        "id": "05upCbPRgp8d"
      },
      "source": [
        "from google.colab import drive\n",
        "drive.mount('/content/drive/')"
      ],
      "execution_count": null,
      "outputs": []
    },
    {
      "cell_type": "code",
      "metadata": {
        "id": "Pf3GupcpM806"
      },
      "source": [
        "# Smanjeni set za treniranje i labele\n",
        "#!unzip '/content/drive/My Drive/LLAMAS/train_labels_small_ids.zip'\n",
        "#!unzip '/content/drive/My Drive/LLAMAS/train_sort_small_bilinear.zip'\n",
        "\n",
        "# Potpuni set za treniranje i labele\n",
        "!unzip '/content/drive/My Drive/LLAMAS/train_small_bil.zip'\n",
        "!unzip '/content/drive/My Drive/LLAMAS/train_all_labels_small_ids.zip'\n",
        "\n",
        "# Set za validiranje i labele\n",
        "!unzip '/content/drive/My Drive/LLAMAS/valid_small_bilinear.zip'\n",
        "!unzip '/content/drive/My Drive/LLAMAS/valid_labels_01.zip'\n",
        "\n",
        "# Set za testiranje i labele\n",
        "!unzip '/content/drive/My Drive/LLAMAS/test_small_bilinear.zip'\n",
        "!unzip '/content/drive/My Drive/LLAMAS/test_small_ids.zip'"
      ],
      "execution_count": null,
      "outputs": []
    },
    {
      "cell_type": "code",
      "metadata": {
        "id": "aw0j7lD1Cqc0"
      },
      "source": [
        "!unzip '/content/drive/My Drive/LLAMAS/train_video.zip'\n",
        "!unzip '/content/drive/My Drive/LLAMAS/valid.zip'"
      ],
      "execution_count": null,
      "outputs": []
    },
    {
      "cell_type": "code",
      "metadata": {
        "id": "AR6Y-ec9DRQC"
      },
      "source": [
        "import torch\n",
        "import torch.nn as nn\n",
        "from PIL import Image\n",
        "import numpy as np\n",
        "import torchvision\n",
        "import torch.nn.functional as F\n",
        "import torch.optim as optim\n",
        "import matplotlib.pyplot as plt\n",
        "import time\n",
        "import numpy as np\n",
        "import math\n",
        "import glob\n",
        "from torchvision.models.resnet import ResNet, BasicBlock\n",
        "from torchvision import transforms\n",
        "from torch.utils.data import Dataset, DataLoader\n",
        "from torch.utils.model_zoo import load_url as loading\n",
        "from torch.autograd import Variable\n",
        "from sklearn import metrics"
      ],
      "execution_count": null,
      "outputs": []
    },
    {
      "cell_type": "code",
      "metadata": {
        "id": "dttOYZwZSbTi"
      },
      "source": [
        "model_urls = {\n",
        "    'resnet18': 'https://download.pytorch.org/models/resnet18-5c106cde.pth',\n",
        "    'resnet34': 'https://download.pytorch.org/models/resnet34-333f7ec4.pth',\n",
        "    'resnet50': 'https://download.pytorch.org/models/resnet50-19c8e357.pth',\n",
        "    'resnet101': 'https://download.pytorch.org/models/resnet101-5d3b4d8f.pth',\n",
        "    'resnet152': 'https://download.pytorch.org/models/resnet152-b121ed2d.pth',\n",
        "    'resnext50_32x4d': 'https://download.pytorch.org/models/resnext50_32x4d-7cdf4587.pth',\n",
        "    'resnext101_32x8d': 'https://download.pytorch.org/models/resnext101_32x8d-8ba56ff5.pth',\n",
        "    'wide_resnet50_2': 'https://download.pytorch.org/models/wide_resnet50_2-95faca4d.pth',\n",
        "    'wide_resnet101_2': 'https://download.pytorch.org/models/wide_resnet101_2-32ee1156.pth',\n",
        "}"
      ],
      "execution_count": null,
      "outputs": []
    },
    {
      "cell_type": "code",
      "metadata": {
        "id": "SOUSywHjbyNg"
      },
      "source": [
        "def conv3x3(in_planes, out_planes, stride=1, groups=1, dilation=1):\n",
        "    \"\"\"3x3 convolution with padding\"\"\"\n",
        "    return nn.Conv2d(in_planes, out_planes, kernel_size=3, stride=stride,\n",
        "                     padding=dilation, groups=groups, bias=False, dilation=dilation)\n"
      ],
      "execution_count": null,
      "outputs": []
    },
    {
      "cell_type": "code",
      "metadata": {
        "id": "1khfpapscEi3"
      },
      "source": [
        "def conv1x1(in_planes, out_planes, stride=1):\n",
        "    \"\"\"1x1 convolution\"\"\"\n",
        "    return nn.Conv2d(in_planes, out_planes, kernel_size=1, stride=stride, bias=False)"
      ],
      "execution_count": null,
      "outputs": []
    },
    {
      "cell_type": "code",
      "metadata": {
        "id": "caJFwe16cEs9"
      },
      "source": [
        "class BasicBlock(nn.Module):\n",
        "    expansion = 1\n",
        "\n",
        "    def __init__(self, inplanes, planes, stride=1, downsample=None, groups=1,\n",
        "                 base_width=64, dilation=1, norm_layer=None):\n",
        "        super(BasicBlock, self).__init__()\n",
        "        if norm_layer is None:\n",
        "            norm_layer = nn.BatchNorm2d\n",
        "        if groups != 1 or base_width != 64:\n",
        "            raise ValueError('BasicBlock only supports groups=1 and base_width=64')\n",
        "        if dilation > 1:\n",
        "            raise NotImplementedError(\"Dilation > 1 not supported in BasicBlock\")\n",
        "        # Both self.conv1 and self.downsample layers downsample the input when stride != 1\n",
        "        self.conv1 = conv3x3(inplanes, planes, stride)\n",
        "        self.bn1 = norm_layer(planes)\n",
        "        self.relu = nn.ReLU(inplace=True)\n",
        "        self.conv2 = conv3x3(planes, planes)\n",
        "        self.bn2 = norm_layer(planes)\n",
        "        self.downsample = downsample\n",
        "        self.stride = stride\n",
        "\n",
        "    def forward(self, x):\n",
        "        identity = x\n",
        "\n",
        "        out = self.conv1(x)\n",
        "        out = self.bn1(out)\n",
        "        out = self.relu(out)\n",
        "\n",
        "        out = self.conv2(out)\n",
        "        out = self.bn2(out)\n",
        "\n",
        "        if self.downsample is not None:\n",
        "            identity = self.downsample(x)\n",
        "\n",
        "        out += identity\n",
        "        out = self.relu(out)\n",
        "\n",
        "        return out\n"
      ],
      "execution_count": null,
      "outputs": []
    },
    {
      "cell_type": "code",
      "metadata": {
        "id": "Fj0uIWZ5cEyY"
      },
      "source": [
        "class Bottleneck(nn.Module):\n",
        "    # Bottleneck in torchvision places the stride for downsampling at 3x3 convolution(self.conv2)\n",
        "    # while original implementation places the stride at the first 1x1 convolution(self.conv1)\n",
        "    # according to \"Deep residual learning for image recognition\"https://arxiv.org/abs/1512.03385.\n",
        "    # This variant is also known as ResNet V1.5 and improves accuracy according to\n",
        "    # https://ngc.nvidia.com/catalog/model-scripts/nvidia:resnet_50_v1_5_for_pytorch.\n",
        "\n",
        "    expansion = 4\n",
        "\n",
        "    def __init__(self, inplanes, planes, stride=1, downsample=None, groups=1,\n",
        "                 base_width=64, dilation=1, norm_layer=None):\n",
        "        super(Bottleneck, self).__init__()\n",
        "        if norm_layer is None:\n",
        "            norm_layer = nn.BatchNorm2d\n",
        "        width = int(planes * (base_width / 64.)) * groups\n",
        "        # Both self.conv2 and self.downsample layers downsample the input when stride != 1\n",
        "        self.conv1 = conv1x1(inplanes, width)\n",
        "        self.bn1 = norm_layer(width)\n",
        "        self.conv2 = conv3x3(width, width, stride, groups, dilation)\n",
        "        self.bn2 = norm_layer(width)\n",
        "        self.conv3 = conv1x1(width, planes * self.expansion)\n",
        "        self.bn3 = norm_layer(planes * self.expansion)\n",
        "        self.relu = nn.ReLU(inplace=True)\n",
        "        self.downsample = downsample\n",
        "        self.stride = stride\n",
        "\n",
        "    def forward(self, x):\n",
        "        identity = x\n",
        "\n",
        "        out = self.conv1(x)\n",
        "        out = self.bn1(out)\n",
        "        out = self.relu(out)\n",
        "\n",
        "        out = self.conv2(out)\n",
        "        out = self.bn2(out)\n",
        "        out = self.relu(out)\n",
        "\n",
        "        out = self.conv3(out)\n",
        "        out = self.bn3(out)\n",
        "\n",
        "        if self.downsample is not None:\n",
        "            identity = self.downsample(x)\n",
        "\n",
        "        out += identity\n",
        "        out = self.relu(out)\n",
        "\n",
        "        return out\n"
      ],
      "execution_count": null,
      "outputs": []
    },
    {
      "cell_type": "code",
      "metadata": {
        "id": "tsH8BZaUcE3w"
      },
      "source": [
        "class ResNet(nn.Module):\n",
        "\n",
        "    def __init__(self, block, layers, num_classes=1000, zero_init_residual=False,\n",
        "                 groups=1, width_per_group=64, replace_stride_with_dilation=None,\n",
        "                 norm_layer=None):\n",
        "        super(ResNet, self).__init__()\n",
        "        if norm_layer is None:\n",
        "            norm_layer = nn.BatchNorm2d\n",
        "        self._norm_layer = norm_layer\n",
        "\n",
        "        self.inplanes = 64\n",
        "        self.dilation = 1\n",
        "        if replace_stride_with_dilation is None:\n",
        "            # each element in the tuple indicates if we should replace\n",
        "            # the 2x2 stride with a dilated convolution instead\n",
        "            replace_stride_with_dilation = [False, False, False]\n",
        "        if len(replace_stride_with_dilation) != 3:\n",
        "            raise ValueError(\"replace_stride_with_dilation should be None \"\n",
        "                             \"or a 3-element tuple, got {}\".format(\n",
        "                                 replace_stride_with_dilation))\n",
        "        self.groups = groups\n",
        "        self.base_width = width_per_group\n",
        "        self.conv1 = nn.Conv2d(1, self.inplanes, kernel_size=7, stride=2, \n",
        "                               padding=3,bias=False)\n",
        "        self.bn1 = norm_layer(self.inplanes)\n",
        "        self.relu = nn.ReLU(inplace=True)\n",
        "        self.maxpool = nn.MaxPool2d(kernel_size=3, stride=2, padding=1)\n",
        "        self.layer1 = self._make_layer(block, 64, layers[0])\n",
        "        self.layer2 = self._make_layer(block, 128, layers[1], stride=2,\n",
        "                                       dilate=replace_stride_with_dilation[0])\n",
        "        self.layer3 = self._make_layer(block, 256, layers[2], stride=2,\n",
        "                                       dilate=replace_stride_with_dilation[1])\n",
        "        self.layer4 = self._make_layer(block, 512, layers[3], stride=2,\n",
        "                                       dilate=replace_stride_with_dilation[2])\n",
        "        self.conv2 = nn.Conv2d(512, 2, kernel_size=1, stride=1, bias=False)\n",
        "        self.upsample = nn.UpsamplingBilinear2d(size=(13, 40))\n",
        "        self.upsample2 = nn.UpsamplingBilinear2d(scale_factor=2)\n",
        "        self.upsample3 = nn.UpsamplingBilinear2d(size=(25, 80))\n",
        "        self.upsample4 = nn.UpsamplingBilinear2d(size=(50, 160))\n",
        "        self.conv3 = nn.Conv2d(256, 2, kernel_size=1, stride=1, bias=False)\n",
        "        self.conv4 = nn.Conv2d(128, 2, kernel_size=1, stride=1, bias=False)\n",
        "        self.conv5 = nn.Conv2d(64, 2, kernel_size=1, stride=1, bias=False)\n",
        "        self.conv6 = nn.Conv2d(2, 2, kernel_size=3, stride=1, bias=False)\n",
        "\n",
        "        for m in self.modules():\n",
        "            if isinstance(m, nn.Conv2d):\n",
        "                nn.init.kaiming_normal_(m.weight, mode='fan_out', nonlinearity='relu')\n",
        "            elif isinstance(m, (nn.BatchNorm2d, nn.GroupNorm)):\n",
        "                nn.init.constant_(m.weight, 1)\n",
        "                nn.init.constant_(m.bias, 0)\n",
        "\n",
        "        # Zero-initialize the last BN in each residual branch,\n",
        "        # so that the residual branch starts with zeros, and each residual block behaves like an identity.\n",
        "        # This improves the model by 0.2~0.3% according to https://arxiv.org/abs/1706.02677\n",
        "        if zero_init_residual:\n",
        "            for m in self.modules():\n",
        "                if isinstance(m, Bottleneck):\n",
        "                    nn.init.constant_(m.bn3.weight, 0)\n",
        "                elif isinstance(m, BasicBlock):\n",
        "                    nn.init.constant_(m.bn2.weight, 0)\n",
        "\n",
        "    def _make_layer(self, block, planes, blocks, stride=1, dilate=False):\n",
        "        norm_layer = self._norm_layer\n",
        "        downsample = None\n",
        "        previous_dilation = self.dilation\n",
        "        if dilate:\n",
        "            self.dilation *= stride\n",
        "            stride = 1\n",
        "        if stride != 1 or self.inplanes != planes * block.expansion:\n",
        "            downsample = nn.Sequential(\n",
        "                conv1x1(self.inplanes, planes * block.expansion, stride),\n",
        "                norm_layer(planes * block.expansion),\n",
        "            )\n",
        "\n",
        "        layers = []\n",
        "        layers.append(block(self.inplanes, planes, stride, downsample, self.groups,\n",
        "                            self.base_width, previous_dilation, norm_layer))\n",
        "        self.inplanes = planes * block.expansion\n",
        "        for _ in range(1, blocks):\n",
        "            layers.append(block(self.inplanes, planes, groups=self.groups,\n",
        "                                base_width=self.base_width, dilation=self.dilation,\n",
        "                                norm_layer=norm_layer))\n",
        "\n",
        "        return nn.Sequential(*layers)\n",
        "\n",
        "    def _forward_impl(self, x):\n",
        "        B, C, H, W = x.shape\n",
        "        x0 = self.conv1(x)\n",
        "        x0 = self.bn1(x0)\n",
        "        x0 = self.relu(x0)\n",
        "        x0 = self.maxpool(x0) #f0 izlaz\n",
        "\n",
        "        x1 = self.layer1(x0)  # f1 izlaz\n",
        "        x2 = self.layer2(x1)  #f2 izlaz\n",
        "        x3 = self.layer3(x2) # logiti na  predikciji /16 #f3 izlaz\n",
        "        x4 = self.layer4(x3)  #f4 izlaz\n",
        "        x5 = self.conv2(x4)\n",
        "\n",
        "        #x8 = torch.nn.functional.interpolate(x5, size=(H,W), mode='bilinear')\n",
        "        \n",
        "        x5 = self.upsample(x5)\n",
        "        x3 = self.conv3(x3)\n",
        "        x5 += x3\n",
        "        x5 = self.conv6(x5)\n",
        "        #x8 = torch.nn.functional.interpolate(x5, size=(H,W), mode='bilinear')\n",
        "        \n",
        "        x5 = self.upsample3(x5)\n",
        "        x2 = self.conv4(x2)\n",
        "        x5 += x2\n",
        "        x5 = self.conv6(x5)\n",
        "        #x8 = torch.nn.functional.interpolate(x5, size=(H,W), mode='bilinear')\n",
        "        \n",
        "        x5 = self.upsample4(x5)\n",
        "        x1 = self.conv5(x1)\n",
        "        x5 += x1\n",
        "        x5 = self.conv6(x5)\n",
        "        x8 = torch.nn.functional.interpolate(x5, size=(H,W), mode='bilinear')\n",
        "        \n",
        "        return x8\n",
        "\n",
        "    def forward(self, x):\n",
        "        return self._forward_impl(x)"
      ],
      "execution_count": null,
      "outputs": []
    },
    {
      "cell_type": "code",
      "metadata": {
        "id": "W_47I2XMcE9A"
      },
      "source": [
        "def _load_pretrained(model, url, inchans=3):\n",
        "    state_dict = loading(url)\n",
        "    if inchans == 1:\n",
        "        conv1_weight = state_dict['conv1.weight']\n",
        "        state_dict['conv1.weight'] = conv1_weight.sum(dim=1, keepdim=True)\n",
        "    elif inchans != 3:\n",
        "        assert False, \"Invalid number of inchans for pretrained weights\"\n",
        "    model.load_state_dict(state_dict, strict=False)\n",
        "\n",
        "def resnet18(pretrained=False, inchans=3):\n",
        "    \"\"\"Constructs a ResNet-50 model.\n",
        "    Args:\n",
        "        pretrained (bool): If True, returns a model pre-trained on ImageNet\n",
        "    \"\"\"\n",
        "    model = ResNet(BasicBlock, [2, 2, 2, 2])\n",
        "    if pretrained:\n",
        "        _load_pretrained(model, model_urls['resnet18'], inchans=inchans)\n",
        "    return model"
      ],
      "execution_count": null,
      "outputs": []
    },
    {
      "cell_type": "code",
      "metadata": {
        "id": "wXe_F_nSI4jU"
      },
      "source": [
        "class LlamasDataset(Dataset):\n",
        "    \"\"\"LLAMAS dataset for lane tracking.\"\"\"\n",
        "    mean=[0.485, 0.456, 0.406]\n",
        "    std=[0.229, 0.224, 0.225]\n",
        "    def __init__(self,im_root, label_root):\n",
        "        self.images = list(sorted(glob.glob(im_root+'*.png')))\n",
        "        self.im_root = im_root\n",
        "        self.labels = list(sorted(glob.glob(label_root+'*.png')))\n",
        "        self.label_root = label_root\n",
        "        self.normalize = transforms.Normalize([0.5],[0.5])\n",
        "        self.tenzoriraj = transforms.ToTensor()\n",
        "        self.area = (0, 159, 638, 359)\n",
        "    def transforms(self, image, label=None):\n",
        "          image = image.crop(self.area)\n",
        "          image = self.tenzoriraj(image)\n",
        "          image = self.normalize(image)\n",
        "\n",
        "          label = label.crop(self.area)\n",
        "          label = np.array(label)\n",
        "          label = torch.tensor(label)\n",
        "\n",
        "          return image, label\n",
        "    \n",
        "    def __len__(self):\n",
        "        return len(self.images)\n",
        "\n",
        "    def __getitem__(self, item):\n",
        "        image = Image.open(self.images[item])\n",
        "        label= Image.open(self.labels[item])\n",
        "        return self.transforms(image, label)"
      ],
      "execution_count": null,
      "outputs": []
    },
    {
      "cell_type": "code",
      "metadata": {
        "id": "4sYyqMPn4s7Z"
      },
      "source": [
        "class LlamasDataset2(Dataset):\n",
        "    \"\"\"LLAMAS dataset for lane tracking.\"\"\"\n",
        "    mean=[0.485, 0.456, 0.406]\n",
        "    std=[0.229, 0.224, 0.225]\n",
        "    def __init__(self,im_root):\n",
        "        self.images = list(sorted(glob.glob(im_root+'*.png')))\n",
        "        self.im_root = im_root\n",
        "        self.normalize = transforms.Normalize([0.5],[0.5])\n",
        "        self.tenzoriraj = transforms.ToTensor()\n",
        "        self.resize = transforms.Resize((359,638))\n",
        "        self.area = (0, 159, 638, 359)\n",
        "    def transforms(self, image, name):\n",
        "          image = self.resize(image)\n",
        "          image = image.crop(self.area)\n",
        "          image = self.tenzoriraj(image)\n",
        "          image = self.normalize(image)\n",
        "\n",
        "          return image, name\n",
        "    \n",
        "    def __len__(self):\n",
        "        return len(self.images)\n",
        "\n",
        "    def __getitem__(self, item):\n",
        "        image = Image.open(self.images[item])\n",
        "        return self.transforms(image, self.images[item])"
      ],
      "execution_count": null,
      "outputs": []
    },
    {
      "cell_type": "code",
      "metadata": {
        "id": "vxZ8pFNrI4v9"
      },
      "source": [
        "train_root = 'train_small_bil/'\n",
        "label_root = 'train_all_labels_small_ids/'\n",
        "\n",
        "test_root = 'test_small_bilinear/'\n",
        "test_labels_root = 'test_small_ids/'\n",
        "\n",
        "valid_root = 'valid_small/'\n",
        "valid_labels_root = 'valid_labels_01/'\n",
        "\n",
        "train_video = 'train_video/'\n",
        "valid_video = 'valid_video/'\n",
        "test_video = 'test_video/'\n",
        "\n",
        "device = torch.device('cuda')\n",
        "epochs = 80\n",
        "batch_size = 12"
      ],
      "execution_count": null,
      "outputs": []
    },
    {
      "cell_type": "code",
      "metadata": {
        "id": "Bs97b83sI-l9"
      },
      "source": [
        "dataset_train = LlamasDataset(im_root=train_root, label_root=label_root)\n",
        "train_loader = DataLoader(dataset=dataset_train, batch_size=batch_size, shuffle=True, num_workers=2)\n",
        "\n",
        "dataset_test = LlamasDataset(im_root=test_root, label_root=test_labels_root)\n",
        "test_loader = DataLoader(dataset=dataset_test, batch_size=batch_size, shuffle=False, num_workers=2)\n",
        "\n",
        "dataset_valid = LlamasDataset(im_root=valid_root, label_root=valid_labels_root)\n",
        "valid_loader = DataLoader(dataset=dataset_valid, batch_size=batch_size, shuffle=True, num_workers=2)\n",
        "\n",
        "train_video_dataset = LlamasDataset2(im_root = train_video)\n",
        "train_video_loader = DataLoader(dataset=train_video_dataset, batch_size=1, shuffle=False, num_workers=2)\n",
        "\n",
        "valid_video_dataset = LlamasDataset2(im_root = valid_video)\n",
        "valid_video_loader = DataLoader(dataset=valid_video_dataset, batch_size=1, shuffle=False, num_workers=2)\n",
        "\n",
        "test_video_dataset = LlamasDataset2(im_root = test_video)\n",
        "test_video_loader = DataLoader(dataset=test_video_dataset, batch_size=1, shuffle=False, num_workers=2)\n"
      ],
      "execution_count": null,
      "outputs": []
    },
    {
      "cell_type": "code",
      "metadata": {
        "id": "sUE_DbWFJ_2f"
      },
      "source": [
        "network = resnet18(pretrained=True, inchans=1)\n",
        "weights = torch.tensor([0.4, 1.0]).to(device)\n",
        "criterion = nn.CrossEntropyLoss(weight=weights)\n",
        "optimizer = optim.Adam(network.parameters())\n",
        "network.to(device)"
      ],
      "execution_count": null,
      "outputs": []
    },
    {
      "cell_type": "code",
      "metadata": {
        "id": "_TquUQ5IKAAp"
      },
      "source": [
        "def train(epoch):\n",
        "    network.train()\n",
        "    correct = 0\n",
        "    iou = 0\n",
        "    total = len(train_loader.dataset) / 12\n",
        "    for batch_idx, (data, target) in enumerate(train_loader):\n",
        "        data, target = data.to(device), target.to(device)\n",
        "        target = target.squeeze(1)\n",
        "        target = target.type(torch.cuda.LongTensor)\n",
        "       \n",
        "        optimizer.zero_grad()\n",
        "        output = network(data)\n",
        "        loss = criterion(output, target)\n",
        "        loss.backward()\n",
        "        optimizer.step()\n",
        "        \n",
        "        pred = torch.argmax(output.data, dim=1)\n",
        "        pred = pred.squeeze(1)\n",
        "        f1_score, iou_score = metrics(pred.reshape(-1), target.reshape(-1))\n",
        "        correct += f1_score\n",
        "        iou += iou_score\n",
        "\n",
        "    print('Train| Epoch {}| Loss: {:.4f}| Accuracy: {:.4f}%| IoU: {:.4f}%'.format(\n",
        "          epoch, loss.item(), 100.*correct / total, 100.*iou/ total))              "
      ],
      "execution_count": null,
      "outputs": []
    },
    {
      "cell_type": "code",
      "metadata": {
        "id": "ovLXaBYy6845"
      },
      "source": [
        "def valid(epoch):\n",
        "    network.eval()\n",
        "    valid_loss = 0\n",
        "    correct = 0\n",
        "    iou = 0\n",
        "    total_valid = len(valid_loader.dataset) / 12\n",
        "    with torch.no_grad():\n",
        "        for data, target in valid_loader:\n",
        "            data, target = data.to(device), target.to(device)\n",
        "            target = target.squeeze(1)\n",
        "            target = target.type(torch.cuda.LongTensor)\n",
        "            \n",
        "            output = network(data)\n",
        "            pred = output.data.max(1, keepdim=True)[1]\n",
        "            valid_loss += criterion(output, target).item()\n",
        "            \n",
        "            f1_score, iou_score = metrics(pred.reshape(-1), target.reshape(-1))\n",
        "            correct += f1_score\n",
        "            iou += iou_score\n",
        "            \n",
        "    valid_loss /= total_valid\n",
        "    iou /= total_valid\n",
        "    correct /= total_valid\n",
        "\n",
        "    print('Valid| Epoch {}| Loss: {:.4f}| Accuracy:{:.4f}%| IoU: {:.4f}%'.format(\n",
        "    epoch, valid_loss, 100.*correct, 100.*iou)) \n"
      ],
      "execution_count": null,
      "outputs": []
    },
    {
      "cell_type": "code",
      "metadata": {
        "id": "p4Kffw5UKHnQ"
      },
      "source": [
        "def test():\n",
        "    network.eval()\n",
        "    test_loss = 0\n",
        "    correct = 0\n",
        "    iou = 0\n",
        "    total_test = len(test_loader.dataset) / 12\n",
        "    with torch.no_grad():\n",
        "        for data, target in test_loader:\n",
        "            data, target = data.to(device), target.to(device)\n",
        "            target = target.squeeze(1)\n",
        "            target = target.type(torch.cuda.LongTensor)\n",
        "            \n",
        "            output = network(data)\n",
        "            pred = output.data.max(1, keepdim=True)[1]\n",
        "            test_loss += criterion(output, target).item()\n",
        "\n",
        "            f1_score, iou_score = metrics(pred.reshape(-1), target.reshape(-1))\n",
        "            correct += f1_score\n",
        "            iou += iou_score\n",
        "            \n",
        "    test_loss /= total_test\n",
        "    iou /= total_test\n",
        "    correct /= total_test\n",
        "    print('Test| Loss: {:.4f}| Accuracy: {:.4f}%| IoU : {:.4f}%'.format(\n",
        "    test_loss,100.*correct, 100.*iou))"
      ],
      "execution_count": null,
      "outputs": []
    },
    {
      "cell_type": "code",
      "metadata": {
        "id": "DNEUzFxjzGLx"
      },
      "source": [
        "def metrics(y_true, y_pred):\n",
        "    \"\"\"\n",
        "    Metoda koja implementira računanje potrebnih mjera za evaluaciju modela.\n",
        "    tp - true poositive\n",
        "    tf - true negative\n",
        "    fp - false positive\n",
        "    fn - false negative\n",
        "    precision - preciznost\n",
        "    recall - odziv\n",
        "    f1 - mjera točnosti za nebalansirane klase\n",
        "    iou - Jaccardov index, mjera sličnosti modela\n",
        "    \"\"\"\n",
        "    tp = (y_true * y_pred).sum().to(torch.float32)\n",
        "    tn = ((1 - y_true) * (1 - y_pred)).sum().to(torch.float32)\n",
        "    fp = ((1 - y_true) * y_pred).sum().to(torch.float32)\n",
        "    fn = (y_true * (1 - y_pred)).sum().to(torch.float32)\n",
        "    \n",
        "\n",
        "    precision = 0 if (tp + fp) == 0 else tp / (tp + fp)\n",
        "    recall = 0 if (tp + fn) == 0 else tp / (tp + fn)\n",
        "    \n",
        "    f1 = 2* (precision*recall) / (precision + recall)\n",
        "    iou = tp / (tp + fp + fn)\n",
        "    \n",
        "    return f1, iou"
      ],
      "execution_count": null,
      "outputs": []
    },
    {
      "cell_type": "code",
      "metadata": {
        "id": "tysCgCN2KHsr"
      },
      "source": [
        "for epoch in range(1, epochs + 1):\n",
        "    time0 = time.time()\n",
        "    train(epoch)\n",
        "    print(\"Time | Epoch {}| {:.4f} s\\n\".format(epoch, time.time() - time0))\n",
        "    valid(epoch)"
      ],
      "execution_count": null,
      "outputs": []
    },
    {
      "cell_type": "code",
      "metadata": {
        "id": "1tjnsHejXjXL"
      },
      "source": [
        "test()"
      ],
      "execution_count": null,
      "outputs": []
    },
    {
      "cell_type": "code",
      "metadata": {
        "id": "CQFnPgwZ8zGx",
        "outputId": "2d26f4a1-4472-4b32-a27c-7162f00f7c07",
        "colab": {
          "base_uri": "https://localhost:8080/",
          "height": 74
        }
      },
      "source": [
        " with torch.no_grad():\n",
        "        for index, (data, name) in enumerate(valid_video_loader):\n",
        "            data = data.to(device)\n",
        "            output = network(data)\n",
        "            pred = output.data.max(1, keepdim=True)[1]\n",
        "            slika = pred.squeeze(0)\n",
        "            slika = slika.squeeze(0)\n",
        "            slika = slika.cpu().numpy().astype(np.uint8)\n",
        "            slika = Image.fromarray(slika, 'L')\n",
        "            slika.save('/content/drive/My Drive/valid_video_slike/' + str(index) + '.png')\n",
        "\n",
        " with torch.no_grad():\n",
        "        for index, (data, name) in enumerate(train_video_loader):\n",
        "            data = data.to(device)\n",
        "            output = network(data)\n",
        "            pred = output.data.max(1, keepdim=True)[1]\n",
        "            slika = pred.squeeze(0)\n",
        "            slika = slika.squeeze(0)\n",
        "            slika = slika.cpu().numpy().astype(np.uint8)\n",
        "            slika = Image.fromarray(slika, 'L')\n",
        "            slika.save('/content/drive/My Drive/train_video_slike/'+ str(index) +'.png')\n",
        "            \n",
        "\n",
        " with torch.no_grad():\n",
        "        for index, (data, name) in enumerate(test_video_loader):\n",
        "            data = data.to(device)\n",
        "            output = network(data)\n",
        "            pred = output.data.max(1, keepdim=True)[1]\n",
        "            slika = pred.squeeze(0)\n",
        "            slika = slika.squeeze(0)\n",
        "            slika = slika.cpu().numpy().astype(np.uint8)\n",
        "            slika = Image.fromarray(slika, 'L')\n",
        "            slika.save('/content/drive/My Drive/test_video_slike/'+ str(index) +'.png')\n",
        "            \n",
        "  "
      ],
      "execution_count": null,
      "outputs": [
        {
          "output_type": "stream",
          "text": [
            "/usr/local/lib/python3.6/dist-packages/torch/nn/functional.py:2973: UserWarning: Default upsampling behavior when mode=bilinear is changed to align_corners=False since 0.4.0. Please specify align_corners=True if the old behavior is desired. See the documentation of nn.Upsample for details.\n",
            "  \"See the documentation of nn.Upsample for details.\".format(mode))\n"
          ],
          "name": "stderr"
        }
      ]
    },
    {
      "cell_type": "code",
      "metadata": {
        "id": "P5iKv1UqDaf4",
        "outputId": "c850a5e0-5458-4db9-ae18-f5a5656d968b",
        "colab": {
          "base_uri": "https://localhost:8080/",
          "height": 378
        }
      },
      "source": [
        "valid_loader2 = DataLoader(dataset=dataset_train, batch_size=1, shuffle=True, num_workers=2)\n",
        "\n",
        "dataiter = iter(valid_loader2)\n",
        "sljed = dataiter.next()\n",
        "slika, tar = sljed\n",
        "correct= 0\n",
        "with torch.no_grad():\n",
        "          data, target = slika.to(device), tar.to(device)\n",
        "          target = tar.squeeze(1)\n",
        "          target = target.type(torch.cuda.LongTensor)\n",
        "          output = network(data)\n",
        "          pred = output.data.max(1, keepdim=True)[1]\n",
        "\n",
        "izlaz = pred.squeeze(0)\n",
        "izlaz = izlaz.squeeze(0)\n",
        "izlaz = izlaz.cpu()\n",
        "izlaz = izlaz.numpy()\n",
        "izlaz = izlaz.astype(np.uint8)\n",
        "\n",
        "tar = target.squeeze(0)\n",
        "tar = tar.cpu()\n",
        "tar = tar.numpy()\n",
        "tar = tar.astype(np.uint8)\n",
        "\n",
        "plt.figure()\n",
        "plt.imshow(tar)\n",
        "plt.title('Target')\n",
        "plt.show()\n",
        "\n",
        "plt.figure()\n",
        "plt.imshow(izlaz)\n",
        "plt.title('Predikcija mreže')\n",
        "plt.show()"
      ],
      "execution_count": null,
      "outputs": [
        {
          "output_type": "stream",
          "text": [
            "/usr/local/lib/python3.6/dist-packages/torch/nn/functional.py:2973: UserWarning: Default upsampling behavior when mode=bilinear is changed to align_corners=False since 0.4.0. Please specify align_corners=True if the old behavior is desired. See the documentation of nn.Upsample for details.\n",
            "  \"See the documentation of nn.Upsample for details.\".format(mode))\n"
          ],
          "name": "stderr"
        },
        {
          "output_type": "display_data",
          "data": {
            "image/png": "[encoded data removed]",
            "text/plain": [
              "<Figure size 432x288 with 1 Axes>"
            ]
          },
          "metadata": {
            "tags": [],
            "needs_background": "light"
          }
        },
        {
          "output_type": "display_data",
          "data": {
            "image/png": "[encoded data removed]",
            "text/plain": [
              "<Figure size 432x288 with 1 Axes>"
            ]
          },
          "metadata": {
            "tags": [],
            "needs_background": "light"
          }
        }
      ]
    },
    {
      "cell_type": "code",
      "metadata": {
        "id": "a29lrL585pN4",
        "outputId": "8472d83d-2464-49c1-a755-cbeff7de772b",
        "colab": {
          "base_uri": "https://localhost:8080/",
          "height": 378
        }
      },
      "source": [
        "valid_loader2 = DataLoader(dataset=dataset_valid, batch_size=1, shuffle=True, num_workers=2)\n",
        "\n",
        "dataiter = iter(valid_loader2)\n",
        "sljed = dataiter.next()\n",
        "slika, tar = sljed\n",
        "correct= 0\n",
        "with torch.no_grad():\n",
        "          data, target = slika.to(device), tar.to(device)\n",
        "          target = tar.squeeze(1)\n",
        "          target = target.type(torch.cuda.LongTensor)\n",
        "          output = network(data)\n",
        "          pred = output.data.max(1, keepdim=True)[1]\n",
        "\n",
        "izlaz = pred.squeeze(0)\n",
        "izlaz = izlaz.squeeze(0)\n",
        "izlaz = izlaz.cpu()\n",
        "izlaz = izlaz.numpy()\n",
        "izlaz = izlaz.astype(np.uint8)\n",
        "\n",
        "tar = target.squeeze(0)\n",
        "tar = tar.cpu()\n",
        "tar = tar.numpy()\n",
        "tar = tar.astype(np.uint8)\n",
        "\n",
        "\n",
        "plt.figure()\n",
        "plt.imshow(tar)\n",
        "plt.title('Target')\n",
        "plt.show()\n",
        "\n",
        "plt.figure()\n",
        "plt.imshow(izlaz)\n",
        "plt.title('Predikcija mreže')\n",
        "plt.show()"
      ],
      "execution_count": null,
      "outputs": [
        {
          "output_type": "stream",
          "text": [
            "/usr/local/lib/python3.6/dist-packages/torch/nn/functional.py:2973: UserWarning: Default upsampling behavior when mode=bilinear is changed to align_corners=False since 0.4.0. Please specify align_corners=True if the old behavior is desired. See the documentation of nn.Upsample for details.\n",
            "  \"See the documentation of nn.Upsample for details.\".format(mode))\n"
          ],
          "name": "stderr"
        },
        {
          "output_type": "display_data",
          "data": {
            "image/png": "[encoded data removed]",
            "text/plain": [
              "<Figure size 432x288 with 1 Axes>"
            ]
          },
          "metadata": {
            "tags": [],
            "needs_background": "light"
          }
        },
        {
          "output_type": "display_data",
          "data": {
            "image/png": "[encoded data removed]",
            "text/plain": [
              "<Figure size 432x288 with 1 Axes>"
            ]
          },
          "metadata": {
            "tags": [],
            "needs_background": "light"
          }
        }
      ]
    },
    {
      "cell_type": "code",
      "metadata": {
        "id": "8ls-TxU5AiVF",
        "outputId": "3c416941-85f0-4639-cc4f-026847fe1fa2",
        "colab": {
          "base_uri": "https://localhost:8080/",
          "height": 700
        }
      },
      "source": [
        "valid_loader2 = DataLoader(dataset=dataset_test, batch_size=1, shuffle=True, num_workers=2)\n",
        "\n",
        "dataiter = iter(valid_loader2)\n",
        "sljed = dataiter.next()\n",
        "sljed = dataiter.next()\n",
        "sljed = dataiter.next()\n",
        "sljed = dataiter.next()\n",
        "slika, tar = sljed\n",
        "correct= 0\n",
        "with torch.no_grad():\n",
        "          data, target = slika.to(device), tar.to(device)\n",
        "          target = tar.squeeze(1)\n",
        "          target = target.type(torch.cuda.LongTensor)\n",
        "          output = network(data)\n",
        "          pred = output.data.max(1, keepdim=True)[1]\n",
        "\n",
        "izlaz = pred.squeeze(0)\n",
        "izlaz = izlaz.squeeze(0)\n",
        "izlaz = izlaz.cpu()\n",
        "izlaz = izlaz.numpy()\n",
        "izlaz = izlaz.astype(np.uint8)\n",
        "\n",
        "tar = target.squeeze(0)\n",
        "tar = tar.cpu()\n",
        "tar = tar.numpy()\n",
        "tar = tar.astype(np.uint8)\n",
        "\n",
        "razlika = izlaz + tar\n",
        "print(np.unique(razlika))\n",
        "raz = np.where(razlika[:] == 1)\n",
        "razlika[raz] = 0\n",
        "\n",
        "plt.figure()\n",
        "plt.imshow(razlika)\n",
        "plt.title('preklapanje')\n",
        "plt.show()\n",
        "\n",
        "\n",
        "plt.figure()\n",
        "plt.imshow(tar)\n",
        "plt.title('Target')\n",
        "plt.show()\n",
        "\n",
        "plt.figure()\n",
        "plt.imshow(izlaz)\n",
        "plt.title('Predikcija mreže')\n",
        "plt.show()\n",
        "\n",
        "\n",
        "with torch.no_grad():\n",
        "        for index, (data, name) in enumerate(test_video_loader):\n",
        "            if index in (0, 1,2):\n",
        "              continue\n",
        "            data = data.to(device)\n",
        "            output = network(data)\n",
        "            pred = output.data.max(1, keepdim=True)[1]\n",
        "            slika = pred.squeeze(0)\n",
        "            slika = slika.squeeze(0)\n",
        "            slika = slika.cpu().numpy().astype(np.uint8)\n",
        "            plt.figure()\n",
        "            plt.imshow(izlaz)\n",
        "            plt.title('Predikcija mreže2')\n",
        "            plt.show()\n",
        "            break\n"
      ],
      "execution_count": null,
      "outputs": [
        {
          "output_type": "stream",
          "text": [
            "[0 1 2]\n"
          ],
          "name": "stdout"
        },
        {
          "output_type": "stream",
          "text": [
            "/usr/local/lib/python3.6/dist-packages/torch/nn/functional.py:2973: UserWarning: Default upsampling behavior when mode=bilinear is changed to align_corners=False since 0.4.0. Please specify align_corners=True if the old behavior is desired. See the documentation of nn.Upsample for details.\n",
            "  \"See the documentation of nn.Upsample for details.\".format(mode))\n"
          ],
          "name": "stderr"
        },
        {
          "output_type": "display_data",
          "data": {
            "image/png": "[encoded data removed]",
            "text/plain": [
              "<Figure size 432x288 with 1 Axes>"
            ]
          },
          "metadata": {
            "tags": [],
            "needs_background": "light"
          }
        },
        {
          "output_type": "display_data",
          "data": {
            "image/png": "[encoded data removed]",
            "text/plain": [
              "<Figure size 432x288 with 1 Axes>"
            ]
          },
          "metadata": {
            "tags": [],
            "needs_background": "light"
          }
        },
        {
          "output_type": "display_data",
          "data": {
            "image/png": "[encoded data removed]",
            "text/plain": [
              "<Figure size 432x288 with 1 Axes>"
            ]
          },
          "metadata": {
            "tags": [],
            "needs_background": "light"
          }
        },
        {
          "output_type": "display_data",
          "data": {
            "image/png": "[encoded data removed]",
            "text/plain": [
              "<Figure size 432x288 with 1 Axes>"
            ]
          },
          "metadata": {
            "tags": [],
            "needs_background": "light"
          }
        }
      ]
    }
  ]
}